{
 "cells": [
  {
   "cell_type": "code",
   "execution_count": 1,
   "id": "1e30f7f0",
   "metadata": {},
   "outputs": [
    {
     "name": "stderr",
     "output_type": "stream",
     "text": [
      "/home/nitish/Documents/github/M5/.venv/lib/python3.12/site-packages/tqdm/auto.py:21: TqdmWarning: IProgress not found. Please update jupyter and ipywidgets. See https://ipywidgets.readthedocs.io/en/stable/user_install.html\n",
      "  from .autonotebook import tqdm as notebook_tqdm\n",
      "/home/nitish/Documents/github/M5/.venv/lib/python3.12/site-packages/sweetviz/graph.py:8: UserWarning: pkg_resources is deprecated as an API. See https://setuptools.pypa.io/en/latest/pkg_resources.html. The pkg_resources package is slated for removal as early as 2025-11-30. Refrain from using this package or pin to Setuptools<81.\n",
      "  from pkg_resources import resource_filename\n"
     ]
    },
    {
     "data": {
      "text/html": [
       "\n",
       "            <div>\n",
       "                <ins><a href=\"https://ydata.ai/register\">Upgrade to ydata-sdk</a></ins>\n",
       "                <p>\n",
       "                    Improve your data and profiling with ydata-sdk, featuring data quality scoring, redundancy detection, outlier identification, text validation, and synthetic data generation.\n",
       "                </p>\n",
       "            </div>\n",
       "            "
      ],
      "text/plain": [
       "<IPython.core.display.HTML object>"
      ]
     },
     "metadata": {},
     "output_type": "display_data"
    }
   ],
   "source": [
    "import sweetviz\n",
    "from ydata_profiling import ProfileReport\n",
    "\n",
    "#from .data_loader import load_data  # Assuming you have a data_loader module with a load_data function\n",
    "import sys\n",
    "import os\n",
    "sys.path.append(os.path.abspath(os.path.join('..', 'src', 'data')))\n",
    "from load_data import M5DataLoader  # Adjust the import based on your project structure\n",
    "\n",
    "import sys\n",
    "import os\n",
    "sys.path.append(os.path.abspath(os.path.join('..', 'src', 'data')))"
   ]
  },
  {
   "cell_type": "code",
   "execution_count": 2,
   "id": "1f7c5878",
   "metadata": {},
   "outputs": [
    {
     "name": "stderr",
     "output_type": "stream",
     "text": [
      "INFO:load_data:Loading all M5 competition data...\n",
      "INFO:load_data:Loading calendar data from /home/nitish/Documents/github/M5/data/calendar.csv\n",
      "INFO:load_data:Calendar data loaded: (1969, 18)\n",
      "INFO:load_data:Loading sales data from /home/nitish/Documents/github/M5/data/sales_train_validation.csv\n",
      "INFO:load_data:Sales data loaded: (30490, 1919)\n",
      "INFO:load_data:Loading price data from /home/nitish/Documents/github/M5/data/sell_prices.csv\n",
      "INFO:load_data:Price data loaded: (6841121, 4)\n",
      "INFO:load_data:Loading sample submission from /home/nitish/Documents/github/M5/data/sample_submission.csv\n",
      "INFO:load_data:Sample submission loaded: (60980, 29)\n",
      "INFO:load_data:All data loaded successfully!\n"
     ]
    }
   ],
   "source": [
    "# Load data\n",
    "data = M5DataLoader(\"/home/nitish/Documents/github/M5/data\").load_all_data()  # Replace with your actual data loading function"
   ]
  },
  {
   "cell_type": "code",
   "execution_count": 3,
   "id": "41bc3a9c",
   "metadata": {},
   "outputs": [
    {
     "data": {
      "text/plain": [
       "dict_keys(['calendar', 'sales', 'prices', 'sample_submission'])"
      ]
     },
     "execution_count": 3,
     "metadata": {},
     "output_type": "execute_result"
    }
   ],
   "source": [
    "data.keys()"
   ]
  },
  {
   "cell_type": "code",
   "execution_count": 4,
   "id": "713c62dd",
   "metadata": {},
   "outputs": [],
   "source": [
    "profile = ProfileReport(data['prices'], title=\"My Data Profile\")\n"
   ]
  },
  {
   "cell_type": "code",
   "execution_count": 7,
   "id": "05c6fc83",
   "metadata": {},
   "outputs": [
    {
     "name": "stderr",
     "output_type": "stream",
     "text": [
      "Export report to file: 100%|██████████| 1/1 [00:00<00:00, 804.74it/s]\n"
     ]
    }
   ],
   "source": [
    "#profile.to_notebook_iframe()\n",
    "profile.to_file(\"prices_report.html\")\n"
   ]
  }
 ],
 "metadata": {
  "kernelspec": {
   "display_name": ".venv",
   "language": "python",
   "name": "python3"
  },
  "language_info": {
   "codemirror_mode": {
    "name": "ipython",
    "version": 3
   },
   "file_extension": ".py",
   "mimetype": "text/x-python",
   "name": "python",
   "nbconvert_exporter": "python",
   "pygments_lexer": "ipython3",
   "version": "3.12.3"
  }
 },
 "nbformat": 4,
 "nbformat_minor": 5
}
